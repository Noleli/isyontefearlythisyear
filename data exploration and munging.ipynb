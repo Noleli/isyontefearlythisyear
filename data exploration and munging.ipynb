{
 "cells": [
  {
   "cell_type": "code",
   "execution_count": 75,
   "metadata": {},
   "outputs": [],
   "source": [
    "%matplotlib inline"
   ]
  },
  {
   "cell_type": "code",
   "execution_count": 294,
   "metadata": {},
   "outputs": [],
   "source": [
    "import pandas as pd\n",
    "import subprocess\n",
    "import re\n",
    "import json\n",
    "from datetime import date"
   ]
  },
  {
   "cell_type": "code",
   "execution_count": 296,
   "metadata": {},
   "outputs": [],
   "source": [
    "d = date(2016, 1, 6)"
   ]
  },
  {
   "cell_type": "code",
   "execution_count": 299,
   "metadata": {},
   "outputs": [
    {
     "ename": "AttributeError",
     "evalue": "attribute 'year' of 'datetime.date' objects is not writable",
     "output_type": "error",
     "traceback": [
      "\u001b[0;31m---------------------------------------------------------------------------\u001b[0m",
      "\u001b[0;31mAttributeError\u001b[0m                            Traceback (most recent call last)",
      "\u001b[0;32m<ipython-input-299-0ced280dfe2f>\u001b[0m in \u001b[0;36m<module>\u001b[0;34m()\u001b[0m\n\u001b[0;32m----> 1\u001b[0;31m \u001b[0md\u001b[0m\u001b[0;34m.\u001b[0m\u001b[0myear\u001b[0m \u001b[0;34m=\u001b[0m \u001b[0;36m2018\u001b[0m\u001b[0;34m\u001b[0m\u001b[0m\n\u001b[0m",
      "\u001b[0;31mAttributeError\u001b[0m: attribute 'year' of 'datetime.date' objects is not writable"
     ]
    }
   ],
   "source": [
    "d.year = 2018"
   ]
  },
  {
   "cell_type": "code",
   "execution_count": 345,
   "metadata": {},
   "outputs": [],
   "source": [
    "def get_dates(year):\n",
    "    events = ['Tu BiShvat',\n",
    "          'Erev Purim',\n",
    "          'Erev Pesach',\n",
    "          'Erev Shavuot',\n",
    "          'Erev Tish\\'a B\\'Av',\n",
    "          'Erev Rosh Hashana',\n",
    "          'Erev Yom Kippur',\n",
    "          'Erev Sukkot',\n",
    "          'Chanukah: 1 Candle']\n",
    "    hebcal_str = subprocess.run('../hebcal-master/./hebcal ' + str(year), shell=True, stdout=subprocess.PIPE, encoding='utf8').stdout\n",
    "    results = {}\n",
    "    heb_year = int(re.search(r'Rosh Hashana ([0-9]{4})', hebcal_str).group(1))\n",
    "    leaps = [3, 6, 8, 11, 14, 17, 0]\n",
    "    rh_date = None\n",
    "\n",
    "    for i, event in enumerate(events):\n",
    "        date_search = re.search(r'(([0-9]{1,2})/([0-9]{1,2})/[0-9]{4}) ' + event, hebcal_str)\n",
    "        month = int(date_search.group(2))\n",
    "        day = int(date_search.group(3))\n",
    "        results[event] = {'event': event, 'year': year, 'month': month, 'day': day}\n",
    "        if event == 'Erev Rosh Hashana': rh_date = date(year, month, day)\n",
    "    \n",
    "    for event_name in results:\n",
    "        this_event = results[event_name]\n",
    "        is_prev = date(this_event['year'], this_event['month'], this_event['day']) < rh_date\n",
    "        this_heb_year = heb_year - (1 if is_prev else 0)\n",
    "        this_event['heb_year'] = this_heb_year\n",
    "        this_event['leap'] = (this_heb_year % 19) in leaps\n",
    "    return results.values()"
   ]
  },
  {
   "cell_type": "code",
   "execution_count": 346,
   "metadata": {},
   "outputs": [],
   "source": [
    "dates = []\n",
    "for y in range(1800, 2200):\n",
    "    dates.extend(get_dates(y))"
   ]
  },
  {
   "cell_type": "code",
   "execution_count": 347,
   "metadata": {},
   "outputs": [
    {
     "data": {
      "text/html": [
       "<div>\n",
       "<style scoped>\n",
       "    .dataframe tbody tr th:only-of-type {\n",
       "        vertical-align: middle;\n",
       "    }\n",
       "\n",
       "    .dataframe tbody tr th {\n",
       "        vertical-align: top;\n",
       "    }\n",
       "\n",
       "    .dataframe thead th {\n",
       "        text-align: right;\n",
       "    }\n",
       "</style>\n",
       "<table border=\"1\" class=\"dataframe\">\n",
       "  <thead>\n",
       "    <tr style=\"text-align: right;\">\n",
       "      <th></th>\n",
       "      <th>day</th>\n",
       "      <th>event</th>\n",
       "      <th>heb_year</th>\n",
       "      <th>leap</th>\n",
       "      <th>month</th>\n",
       "      <th>year</th>\n",
       "    </tr>\n",
       "  </thead>\n",
       "  <tbody>\n",
       "  </tbody>\n",
       "</table>\n",
       "</div>"
      ],
      "text/plain": [
       "Empty DataFrame\n",
       "Columns: [day, event, heb_year, leap, month, year]\n",
       "Index: []"
      ]
     },
     "execution_count": 347,
     "metadata": {},
     "output_type": "execute_result"
    }
   ],
   "source": [
    "pd.DataFrame(dates).query('leap == False & event == \"Erev Pesach\" & month == 4 & day > 19')"
   ]
  },
  {
   "cell_type": "code",
   "execution_count": 348,
   "metadata": {},
   "outputs": [],
   "source": [
    "# export raw data\n",
    "with open('data.json', 'w') as file:\n",
    "    json.dump(dates, file)"
   ]
  },
  {
   "cell_type": "code",
   "execution_count": 268,
   "metadata": {},
   "outputs": [
    {
     "data": {
      "text/plain": [
       "event    Tu BiShvat\n",
       "month            12\n",
       "day              31\n",
       "count            17\n",
       "dtype: object"
      ]
     },
     "execution_count": 268,
     "metadata": {},
     "output_type": "execute_result"
    }
   ],
   "source": [
    "# export aggregated data\n",
    "pd.DataFrame(pd.DataFrame(dates).groupby(['event', 'month', 'day']).size(), columns=['count']).reset_index().to_json('agg_data.json', orient='records')"
   ]
  }
 ],
 "metadata": {
  "kernelspec": {
   "display_name": "Python 3",
   "language": "python",
   "name": "python3"
  },
  "language_info": {
   "codemirror_mode": {
    "name": "ipython",
    "version": 3
   },
   "file_extension": ".py",
   "mimetype": "text/x-python",
   "name": "python",
   "nbconvert_exporter": "python",
   "pygments_lexer": "ipython3",
   "version": "3.6.6"
  }
 },
 "nbformat": 4,
 "nbformat_minor": 2
}
