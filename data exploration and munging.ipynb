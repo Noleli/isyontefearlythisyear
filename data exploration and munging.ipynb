{
 "cells": [
  {
   "cell_type": "code",
   "execution_count": 75,
   "metadata": {},
   "outputs": [],
   "source": [
    "%matplotlib inline"
   ]
  },
  {
   "cell_type": "code",
   "execution_count": 242,
   "metadata": {},
   "outputs": [],
   "source": [
    "import pandas as pd\n",
    "import subprocess\n",
    "import re\n",
    "import json"
   ]
  },
  {
   "cell_type": "code",
   "execution_count": 260,
   "metadata": {},
   "outputs": [],
   "source": [
    "def get_dates(year):\n",
    "    events = ['Tu BiShvat',\n",
    "          'Erev Purim',\n",
    "          'Erev Pesach',\n",
    "          'Erev Shavuot',\n",
    "          'Erev Tish\\'a B\\'Av',\n",
    "          'Erev Rosh Hashana',\n",
    "#           'Erev Yom Kippur',\n",
    "#           'Erev Sukkot',\n",
    "          'Chanukah: 1 Candle']\n",
    "    hebcal_str = subprocess.run('../hebcal-master/./hebcal ' + str(year), shell=True, stdout=subprocess.PIPE, encoding='utf8').stdout\n",
    "    results = []\n",
    "    is_leap = 'Adar II' in hebcal_str\n",
    "    for event in events:\n",
    "        date_search = re.search(r'(([0-9]{1,2})/([0-9]{1,2})/[0-9]{4}) ' + event, hebcal_str)\n",
    "        date = date_search.group(1)\n",
    "        month = int(date_search.group(2))\n",
    "        day = int(date_search.group(3))\n",
    "        results.append({'event': event, 'year': year, 'month': month, 'day': day, 'leap': is_leap})\n",
    "    return results"
   ]
  },
  {
   "cell_type": "code",
   "execution_count": 261,
   "metadata": {},
   "outputs": [],
   "source": [
    "dates = []\n",
    "for y in range(1800, 2200):\n",
    "    dates.extend(get_dates(y))"
   ]
  },
  {
   "cell_type": "code",
   "execution_count": 263,
   "metadata": {},
   "outputs": [],
   "source": [
    "# export raw data\n",
    "with open('data.json', 'w') as file:\n",
    "    json.dump(dates, file)"
   ]
  },
  {
   "cell_type": "code",
   "execution_count": 268,
   "metadata": {},
   "outputs": [
    {
     "data": {
      "text/plain": [
       "event    Tu BiShvat\n",
       "month            12\n",
       "day              31\n",
       "count            17\n",
       "dtype: object"
      ]
     },
     "execution_count": 268,
     "metadata": {},
     "output_type": "execute_result"
    }
   ],
   "source": [
    "# export aggregated data\n",
    "pd.DataFrame(pd.DataFrame(dates).groupby(['event', 'month', 'day']).size(), columns=['count']).reset_index().to_json('agg_data.json', orient='records')"
   ]
  }
 ],
 "metadata": {
  "kernelspec": {
   "display_name": "Python 3",
   "language": "python",
   "name": "python3"
  },
  "language_info": {
   "codemirror_mode": {
    "name": "ipython",
    "version": 3
   },
   "file_extension": ".py",
   "mimetype": "text/x-python",
   "name": "python",
   "nbconvert_exporter": "python",
   "pygments_lexer": "ipython3",
   "version": "3.6.6"
  }
 },
 "nbformat": 4,
 "nbformat_minor": 2
}
